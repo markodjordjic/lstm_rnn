{
 "cells": [
  {
   "cell_type": "markdown",
   "metadata": {},
   "source": [
    "# Model Designation"
   ]
  },
  {
   "cell_type": "markdown",
   "metadata": {},
   "source": [
    "The model developed in this use case belongs to the class of non-probabilistic supervised deep learning models for solving regression tasks. Here are further explanations regarding the class designation of the model.\n",
    "\n",
    "- Supervised means that there is a reference against which performance of the model can be objectivley evaluated, within a formal protocol for evaluating models for solving regression tasks.\n",
    "\n",
    "- Deep learning means that the model will be based on the technology of artificial neural networks (ANNs), which significantly differs in comparison to the classical ML models, when it comes to the methodology of model training and testing, usage of computational resources, and most importantly, logic for making inferences which model obtains after completion of training process.\n",
    "\n",
    "- Regression means that the objective of a model is to predict numerical values (members of the set of real numbers) which originte from a continous distribution. (As opposed to classification tasks in which the objective is to predict the integers originating from discrete distribution.)\n",
    "\n",
    "- The model that will be developed is not able to (a) generate data, or (b) give an uncertianty estimate, and therefore it is designated as non-probabilistic."
   ]
  },
  {
   "cell_type": "markdown",
   "metadata": {},
   "source": [
    "# Objective of Learning Task\n",
    "\n",
    "Objective of the learning task is to predict the \"temperature in kitchen area\" in degrees of Celsius, on the basis of other variables present in the \"Appliances energy prediction Data Set\" available from the UCI Machine Learning Repository. Reader is encouraged to get more information about the data set in question, having in mind that the emphasis of this use case is on developent of recurrent neural network (RNN), rather than on data analysis and data exploration."
   ]
  },
  {
   "cell_type": "markdown",
   "metadata": {},
   "source": [
    "# Technology Stack\n",
    "\n",
    "Python programing language has been selected for the purposes of model development. Virtualenv package is utilized for generation of specific environment. Model development is done in Keras, while computatuion is done in TensorFlow, with Eigen as the BLAS computational backend. Data manitpulation is mostly done in numpy because there is there is no pronunced need to use named feature and target vectors. Usage of these technologies is encouraged in order to get repodocuible results."
   ]
  },
  {
   "cell_type": "markdown",
   "metadata": {},
   "source": [
    "# Methodology of Model Training and Testing\n",
    "\n",
    "Modeling process follows basic methodology for training and testing of models which solve regression tasks.\n",
    "\n",
    "- The data set is split to training, validation, and testing set.\n",
    "- A simplistic LSTM RNN is constructed and trained.\n",
    "- Training process continues until no reduction of loss on validation set is recorded for two non-consecutive epoch. Minimal increase in reduction of loss, that needs to be achieved between two non-consecutive epochs, is 0.01 MSE.\n",
    "- After completion of the training process, model performance is evaluated on the test set. Main component of model performance is its accuracy, which is measured as mean absolute error (MAE). Model generalization ability, as the second component of the model performance, is only briefly evaluated.\n",
    "- Finally, alongside the evaluation of model accuracy, a comparison is done between a fit produces by a FFD ANN developed previousley, and LSTM RNN.\n",
    "\n",
    "No cross-validation or model fine tuning is performed. The reasoning behind such a simplistic approach to model training and testing, is driven by limitations of the model development environment, especially in the terms of computational resources. Therefore, methodology of model training and testing is designed to meet the requirements of fast development and low computational effort, rather than designed to find best solution in terms of model's generalization ability and accuracy. Model training and testing proces would greatly benefit from introduction of hyper-parameter tuning and cross validation.\n",
    "\n",
    "Also, it is important to take into account that the main purpose of the use-case is to gain insight into preformance of LSTM RNN in comparison to the FFD ANN. Having in mind that the time series data is used in the use-case, expected outcome is to observe advantages of LSTM RNN over FFD ANNs.\n"
   ]
  },
  {
   "cell_type": "markdown",
   "metadata": {},
   "source": [
    "# Model Development"
   ]
  },
  {
   "cell_type": "markdown",
   "metadata": {},
   "source": [
    "First step is to import necessary packages."
   ]
  },
  {
   "cell_type": "code",
   "execution_count": 100,
   "metadata": {},
   "outputs": [],
   "source": [
    "import pandas as pd\n",
    "import numpy as np\n",
    "from math import floor\n",
    "from collections import OrderedDict\n",
    "from keras.models import load_model\n",
    "from keras.layers import Input, Dense, LSTM\n",
    "from keras.optimizers import Adam\n",
    "from keras.models import Model\n",
    "from keras.callbacks import EarlyStopping\n",
    "import matplotlib.pyplot as plt\n",
    "import matplotlib.gridspec as grid"
   ]
  },
  {
   "cell_type": "markdown",
   "metadata": {},
   "source": [
    "Now, we proceed with declaration of a class for data holding the names of the features and targets. This class also preforms basic data preparation, hence the name of the class. However, further preparation of the data is performed downstream as well."
   ]
  },
  {
   "cell_type": "code",
   "execution_count": 101,
   "metadata": {},
   "outputs": [],
   "source": [
    "class PreparedData:\n",
    "    def __init__(self, inn):\n",
    "        self.original_data = inn\n",
    "        self.prepared_data = None\n",
    "        self.feature_labels = None\n",
    "        self.target_labels = None\n",
    "        # Assign index and convert to date.\n",
    "        out = inn.copy(deep=True)\n",
    "        out.index = pd.to_datetime(inn['date'])\n",
    "        # Drop unnecessary columns.\n",
    "        out.drop(columns=['date', 'rv1', 'rv2'], inplace=True)\n",
    "        # Get labels.\n",
    "        target_labels = [\n",
    "            label for label in inn.columns if\n",
    "            ('T1' in label)\n",
    "            & ('_out' not in label)\n",
    "            & ('Tdewpoint' not in label)\n",
    "        ]\n",
    "        feature_labels = set(out.columns) - set(target_labels)\n",
    "        self.prepared_data = out\n",
    "        self.feature_labels = feature_labels\n",
    "        self.target_labels = target_labels"
   ]
  },
  {
   "cell_type": "markdown",
   "metadata": {},
   "source": [
    "The purpose of the following function is to create a subset of data by selecting desired columns."
   ]
  },
  {
   "cell_type": "code",
   "execution_count": 102,
   "metadata": {},
   "outputs": [],
   "source": [
    "def subset_columns(frame, columns):\n",
    "    \"\"\"\n",
    "    Return numpy array wh. subset of columns.\n",
    "    \"\"\"\n",
    "    return np.array(frame.loc[:, columns])"
   ]
  },
  {
   "cell_type": "markdown",
   "metadata": {},
   "source": [
    "Previous function is then followed with two utility functions. One, to make feature data sets."
   ]
  },
  {
   "cell_type": "code",
   "execution_count": 103,
   "metadata": {},
   "outputs": [],
   "source": [
    "def make_features(training_frame,\n",
    "                  validation_frame,\n",
    "                  testing_frame,\n",
    "                  feature_columns):\n",
    "    \"\"\"\n",
    "    Return a features for training, validation, and testing.\n",
    "    \"\"\"\n",
    "    return (\n",
    "        subset_columns(\n",
    "            frame=training_frame,\n",
    "            columns=feature_columns,\n",
    "        ),\n",
    "        subset_columns(\n",
    "            frame=validation_frame,\n",
    "            columns=feature_columns,\n",
    "        ),\n",
    "        subset_columns(\n",
    "            frame=testing_frame,\n",
    "            columns=feature_columns\n",
    "        )\n",
    "    )"
   ]
  },
  {
   "cell_type": "markdown",
   "metadata": {},
   "source": [
    "And another to make targets data sets."
   ]
  },
  {
   "cell_type": "code",
   "execution_count": 104,
   "metadata": {},
   "outputs": [],
   "source": [
    "def make_targets(training_frame,\n",
    "                 validation_frame,\n",
    "                 testing_frame,\n",
    "                 targets_columns):\n",
    "    \"\"\"\n",
    "    Return a features for training, validation, and testing.\n",
    "    \"\"\"\n",
    "    return (\n",
    "        subset_columns(\n",
    "            frame=training_frame,\n",
    "            columns=targets_columns,\n",
    "        ),\n",
    "        subset_columns(\n",
    "            frame=validation_frame,\n",
    "            columns=targets_columns,\n",
    "        ),\n",
    "        subset_columns(\n",
    "            frame=testing_frame,\n",
    "            columns=targets_columns\n",
    "        )\n",
    "    )"
   ]
  },
  {
   "cell_type": "markdown",
   "metadata": {},
   "source": [
    "Utility funcitions are complemented with the function to standardize data."
   ]
  },
  {
   "cell_type": "code",
   "execution_count": 105,
   "metadata": {},
   "outputs": [],
   "source": [
    "def compute_mean_and_standard_deviation(table):\n",
    "    \"\"\"\n",
    "    Return mean and standard deviation of the table.\n",
    "    \"\"\"\n",
    "    return np.mean(table, axis=0), np.std(table, axis=0)"
   ]
  },
  {
   "cell_type": "markdown",
   "metadata": {},
   "source": [
    "Now we get into functions specific for the usage of RNNs. First in line, is a function that reshapes an array into a shape that can be ingested into a RNN (samples, time-steps, dimensions). In the vocabulary of the function, the length of the sequence (number of the time-steps) is designated as \"memory\", in order to emphaisise the capacity of the network to absorb temporal data."
   ]
  },
  {
   "cell_type": "code",
   "execution_count": 106,
   "metadata": {},
   "outputs": [],
   "source": [
    "def reshape_features_for_rnn(input_array, memory):\n",
    "    \"\"\"\n",
    "    Return features reshaped to the required dimensionality.\n",
    "    \"\"\"\n",
    "    feasible_duration_of_training_set = len(input_array[memory:, :])\n",
    "    # Number of samples.\n",
    "    total_samples = floor(feasible_duration_of_training_set / memory)\n",
    "    # Subset features, so that there is enough timestamps for all samples.\n",
    "    # and return with the new shape.\n",
    "    return np.reshape(\n",
    "        input_array[0:memory*total_samples, :],\n",
    "        newshape=(\n",
    "            total_samples, memory, np.shape(input_array)[1]\n",
    "        )\n",
    "    )\n"
   ]
  },
  {
   "cell_type": "markdown",
   "metadata": {},
   "source": [
    "Now we go into a series of generators which yield baches. The first in line is the generator for the training process. This generator yields batches of featurea and targets. For the generaor to work it is necessary to firstly create an inventory of batches, which will be passed to the generator as an input. Production of individual batches is done via call to the function defined above."
   ]
  },
  {
   "cell_type": "code",
   "execution_count": 144,
   "metadata": {},
   "outputs": [],
   "source": [
    "def generate_batch(features, labels, inventory_of_batches, samples_per_batch):\n",
    "    \"\"\"\n",
    "    Return a batch of features and targets of desired size.\n",
    "    \"\"\"\n",
    "    while True:\n",
    "        for batch in inventory_of_batches.index:\n",
    "            feature_sample_start = \\\n",
    "                inventory_of_batches['features_start'][batch]\n",
    "            feature_sample_end = \\\n",
    "                inventory_of_batches['features_end'][batch]\n",
    "            target_sample_start = \\\n",
    "                inventory_of_batches['targets_start'][batch]\n",
    "            target_sample_end = \\\n",
    "                inventory_of_batches['targets_end'][batch]\n",
    "            features_batch = np.reshape(\n",
    "                features[feature_sample_start:feature_sample_end, :],\n",
    "                newshape=(\n",
    "                    samples_per_batch,\n",
    "                    memory,\n",
    "                    np.shape(x_test_standardized)[1]\n",
    "                )\n",
    "            )\n",
    "            targets_batch = np.reshape(\n",
    "                 labels[target_sample_start:target_sample_end, ],\n",
    "                 newshape=(samples_per_batch, 1)\n",
    "            )\n",
    "            yield (\n",
    "                {'input_layer': features_batch},\n",
    "                {'output_layer': targets_batch}\n",
    "            )\n"
   ]
  },
  {
   "cell_type": "markdown",
   "metadata": {},
   "source": [
    "Next in line is the generator of the batches for the prediction process. What is the difference between this generator, and the first one? This generator yields only features, and no targets. Everything else is the same."
   ]
  },
  {
   "cell_type": "code",
   "execution_count": 108,
   "metadata": {},
   "outputs": [],
   "source": [
    "def generate_batch_for_prediction(features, inventory_of_batches):\n",
    "    \"\"\"\n",
    "    Return a batch of features and targets of desired size.\n",
    "    \"\"\"\n",
    "    while True:\n",
    "        for batch in inventory_of_batches.index:\n",
    "            feature_sample_start = \\\n",
    "                inventory_of_batches['features_start'][batch]\n",
    "            feature_sample_end = \\\n",
    "                inventory_of_batches['features_end'][batch]\n",
    "            features_batch = np.reshape(\n",
    "                features[feature_sample_start:feature_sample_end, :],\n",
    "                newshape=(1, memory, np.shape(x_test_standardized)[1])\n",
    "            )\n",
    "            yield ({'input_layer': features_batch})"
   ]
  },
  {
   "cell_type": "markdown",
   "metadata": {},
   "source": [
    "Now there are only two things left. First one is to create a function to make the LSMT RNN."
   ]
  },
  {
   "cell_type": "code",
   "execution_count": 109,
   "metadata": {},
   "outputs": [],
   "source": [
    "def get_lstm_rnn_model(capacity, dimensionality):\n",
    "    \"\"\"\n",
    "    Return model.\n",
    "    \"\"\"\n",
    "    # Declare input layer.\n",
    "    input_layer = Input(shape=(capacity, dimensionality), name='input_layer')\n",
    "    # Declare regression layer 1.\n",
    "    regression_1 = LSTM(\n",
    "        units=2,\n",
    "        unit_forget_bias=True,\n",
    "        return_sequences=True,\n",
    "        stateful=False,\n",
    "        implementation=1\n",
    "    )(input_layer)\n",
    "    # Declare regression layer 2.\n",
    "    regression_2 = LSTM(\n",
    "        units=2,\n",
    "        unit_forget_bias=True,\n",
    "        return_sequences=False,\n",
    "        stateful=False,\n",
    "        implementation=1\n",
    "    )(regression_1)\n",
    "    output = Dense(1, activation='linear', name='output_layer')(regression_2)\n",
    "    return Model(inputs=input_layer, outputs=output)"
   ]
  },
  {
   "cell_type": "markdown",
   "metadata": {},
   "source": [
    "And also to create a function the generate predictions form the FFD ANN."
   ]
  },
  {
   "cell_type": "code",
   "execution_count": 110,
   "metadata": {},
   "outputs": [],
   "source": [
    "def get_stochastic_predictions(model_for_deployment, input_data, passes):\n",
    "    \"\"\"\n",
    "    Return stochastic predictions according to desired number of passes.\n",
    "    \"\"\"\n",
    "    # Declare a list to store predictions.\n",
    "    raw_predictions = []\n",
    "    for forward_pass in range(passes):\n",
    "        raw_predictions.append(\n",
    "            model_for_deployment.predict(\n",
    "                x=input_data, batch_size=len(input_data), verbose=0)\n",
    "        )\n",
    "    return np.transpose(np.reshape(\n",
    "        raw_predictions, newshape=(passes, len(input_data))\n",
    "    ))"
   ]
  },
  {
   "cell_type": "markdown",
   "metadata": {},
   "source": [
    "Without further ado, let us move on to the mode development."
   ]
  },
  {
   "cell_type": "code",
   "execution_count": 111,
   "metadata": {},
   "outputs": [],
   "source": [
    "if __name__ == '__main__':\n",
    "\n",
    "    # Declare file handles.\n",
    "    RAW_DATA = r'M:\\Projects\\004_mc_dropout\\1_data\\energydata_complete.csv'\n",
    "    FFD_ANN_FOLDER = r'M:\\Projects\\004_mc_dropout\\3_output'\n",
    "\n",
    "    # Get data.\n",
    "    raw_data = pd.read_csv(RAW_DATA, sep=',')\n",
    "\n",
    "    # Prepare data.\n",
    "    data_preparation = PreparedData(inn=raw_data)\n",
    "    prepared_data = data_preparation.prepared_data"
   ]
  },
  {
   "cell_type": "markdown",
   "metadata": {},
   "source": [
    "Firstly, the data is imported and prepared. Then, we declare start and end timestamps for training, validation, and testing sets."
   ]
  },
  {
   "cell_type": "code",
   "execution_count": 112,
   "metadata": {},
   "outputs": [],
   "source": [
    "    # Declare limits for subsets of data set.\n",
    "    training_start = 0\n",
    "    training_end = int(len(prepared_data)/2 - len(prepared_data)/2*.1)\n",
    "    validation_start = int(len(prepared_data)/2 - len(prepared_data)/2*.1)\n",
    "    validation_end = int(len(prepared_data)/2)\n",
    "    testing_start = int(len(prepared_data)/2)\n",
    "    testing_end = len(prepared_data)"
   ]
  },
  {
   "cell_type": "markdown",
   "metadata": {},
   "source": [
    "Training data is then subsetted.\n"
   ]
  },
  {
   "cell_type": "code",
   "execution_count": 113,
   "metadata": {},
   "outputs": [],
   "source": [
    "    # Subset samples for training.\n",
    "    features_and_targets_for_training = \\\n",
    "        prepared_data.iloc[training_start:training_end, :]"
   ]
  },
  {
   "cell_type": "markdown",
   "metadata": {},
   "source": [
    "And here we can see the start, and end timestamps."
   ]
  },
  {
   "cell_type": "code",
   "execution_count": 114,
   "metadata": {},
   "outputs": [
    {
     "name": "stdout",
     "output_type": "stream",
     "text": [
      "Start of training: 2016-01-11 17:00:00. End of training: 2016-03-13 08:50:00.\n"
     ]
    }
   ],
   "source": [
    "    # Print starting and ending times.\n",
    "    print('Start of training: %s. End of training: %s.' % (\n",
    "        features_and_targets_for_training.index[0],\n",
    "        features_and_targets_for_training.index[-1]\n",
    "    ))"
   ]
  },
  {
   "cell_type": "markdown",
   "metadata": {},
   "source": [
    "Now we can also subset the validation and testing data."
   ]
  },
  {
   "cell_type": "code",
   "execution_count": 115,
   "metadata": {},
   "outputs": [],
   "source": [
    "    # Subset samples for validation.\n",
    "    features_and_targets_for_validation = \\\n",
    "        prepared_data.iloc[validation_start:validation_end, :]\n",
    "\n",
    "    # Subset samples for testing.\n",
    "    features_and_targets_for_testing = \\\n",
    "        prepared_data.iloc[testing_start:testing_end, :]"
   ]
  },
  {
   "cell_type": "markdown",
   "metadata": {},
   "source": [
    "And examine start time-stamps and end time-stapms of these sections of the data."
   ]
  },
  {
   "cell_type": "code",
   "execution_count": 116,
   "metadata": {},
   "outputs": [
    {
     "name": "stdout",
     "output_type": "stream",
     "text": [
      "Start of validation: 2016-03-13 09:00:00. End of validation: 2016-03-20 05:20:00.\n",
      "Start of testing: 2016-03-20 05:30:00. End of testing: 2016-05-27 18:00:00.\n"
     ]
    }
   ],
   "source": [
    "    print('Start of validation: %s. End of validation: %s.' % (\n",
    "        features_and_targets_for_validation.index[0],\n",
    "        features_and_targets_for_validation.index[-1]\n",
    "    ))\n",
    "    print('Start of testing: %s. End of testing: %s.' % (\n",
    "        features_and_targets_for_testing.index[0],\n",
    "        features_and_targets_for_testing.index[-1]\n",
    "    ))"
   ]
  },
  {
   "cell_type": "markdown",
   "metadata": {},
   "source": [
    "As mentioned in the introduction, the purpose of the use case is to make comparison betwenn FFD ANN and LSTM RNN. Therefore, we firts need to generate predictions from the FFD ANN model, and to do that we need to prepare the data in the same way that the data was prepared for the training of FFD ANN. So we will start with loading of the scaling parameters."
   ]
  },
  {
   "cell_type": "code",
   "execution_count": 117,
   "metadata": {},
   "outputs": [],
   "source": [
    "    # Get FFD ANN model scaling parameters.\n",
    "    ffd_ann_scaling_parameters = pd.read_csv(\n",
    "        filepath_or_buffer=\n",
    "            FFD_ANN_FOLDER+r'\\uc004_mc_dropout_scaling_parameters.csv',\n",
    "        index_col=0\n",
    "    )"
   ]
  },
  {
   "cell_type": "markdown",
   "metadata": {},
   "source": [
    "Then, we will make features and targets but with special consideration to the order of the variables. That is the purpose of the reference to \"variable_names\" column of the scaling parmeters data frame. This column, holds the order of the variables."
   ]
  },
  {
   "cell_type": "code",
   "execution_count": 118,
   "metadata": {},
   "outputs": [],
   "source": [
    "    # Get features.\n",
    "    features_training, features_validation, features_testing = \\\n",
    "        make_features(\n",
    "            training_frame=features_and_targets_for_training,\n",
    "            validation_frame=features_and_targets_for_validation,\n",
    "            testing_frame=features_and_targets_for_testing,\n",
    "            feature_columns=ffd_ann_scaling_parameters['variable_name'],\n",
    "        )\n",
    "\n",
    "    # Get targets.\n",
    "    targets_train, targets_validation, targets_test = make_targets(\n",
    "        training_frame=features_and_targets_for_training,\n",
    "        validation_frame=features_and_targets_for_validation,\n",
    "        testing_frame=features_and_targets_for_testing,\n",
    "        targets_columns=data_preparation.target_labels,\n",
    "    )"
   ]
  },
  {
   "cell_type": "markdown",
   "metadata": {},
   "source": [
    "Now all that there is left is to get the actual scaling parameters (mean, and standard deviation) and to standardize the data."
   ]
  },
  {
   "cell_type": "code",
   "execution_count": 119,
   "metadata": {},
   "outputs": [],
   "source": [
    "    # Get mean and standard deviation of training features.\n",
    "    mean = ffd_ann_scaling_parameters['mean'].values\n",
    "    standard_deviation = \\\n",
    "        ffd_ann_scaling_parameters['standard_deviation'].values\n",
    "    # Standardize training, validation, and testing features.\n",
    "    x_train_standardized = (features_training-mean) / standard_deviation\n",
    "    x_validation_standardized = (features_validation-mean) / standard_deviation\n",
    "    x_test_standardized = (features_testing-mean) / standard_deviation"
   ]
  },
  {
   "cell_type": "markdown",
   "metadata": {},
   "source": [
    "Let us verify if the standardization was done correclty."
   ]
  },
  {
   "cell_type": "code",
   "execution_count": 120,
   "metadata": {},
   "outputs": [
    {
     "name": "stdout",
     "output_type": "stream",
     "text": [
      "[1. 1. 1. 1. 1. 1. 1. 1. 1. 1. 1. 1. 1. 1. 1. 1. 1. 1. 1. 1. 1. 1. 1. 1.\n",
      " 1.]\n",
      "[1.18307181 0.6743218  0.16078519 1.3665739  0.20565271 0.54285796\n",
      " 1.15865454 0.87941373 0.27765162 0.06666029 0.0703394  0.41331868\n",
      " 0.65862733 0.10223157 0.3124564  0.74120142 1.93688439 0.25435944\n",
      " 0.75422202 0.04869117 1.09058073 0.30501772 0.58681752 0.41685807\n",
      " 0.16557348]\n",
      "[0.78632384 2.10412644 1.85421244 2.09215122 0.64130847 1.73711587\n",
      " 2.28147666 0.41874729 0.71785236 0.369263   0.62236422 0.52631285\n",
      " 0.76336401 0.81455222 1.12648601 2.5185316  0.536103   0.92568494\n",
      " 1.70935316 2.49731804 1.6243543  1.36839702 1.75868663 0.60882017\n",
      " 0.61950162]\n"
     ]
    }
   ],
   "source": [
    "    # Print variance of the features.\n",
    "    print(np.var(x_train_standardized, axis=0))\n",
    "    print(np.var(x_validation_standardized, axis=0))\n",
    "    print(np.var(x_test_standardized, axis=0))"
   ]
  },
  {
   "cell_type": "markdown",
   "metadata": {},
   "source": [
    "As it can be seen, the standardization is done correctly. The shift in distribution of the input data is already known characteristic of this data set. Now, we get the FFD ANN."
   ]
  },
  {
   "cell_type": "code",
   "execution_count": 121,
   "metadata": {},
   "outputs": [],
   "source": [
    "    # Get FFD ANN model.\n",
    "    ffd_ann_model = load_model(\n",
    "        filepath=FFD_ANN_FOLDER+r'\\uc004_mc_dropout_model.h5'\n",
    "    )"
   ]
  },
  {
   "cell_type": "markdown",
   "metadata": {},
   "source": [
    "And generate some predictions out of FFD ANN."
   ]
  },
  {
   "cell_type": "code",
   "execution_count": 122,
   "metadata": {},
   "outputs": [],
   "source": [
    "    ffd_ann_predictions = get_stochastic_predictions(\n",
    "        model_for_deployment=ffd_ann_model,\n",
    "        input_data=x_test_standardized,\n",
    "        passes=30\n",
    "    )\n",
    "    ffd_ann_predictions = np.mean(ffd_ann_predictions, axis=1)"
   ]
  },
  {
   "cell_type": "markdown",
   "metadata": {},
   "source": [
    "Let us recall what was the accracy of the FFD ANN."
   ]
  },
  {
   "cell_type": "code",
   "execution_count": 123,
   "metadata": {},
   "outputs": [
    {
     "name": "stdout",
     "output_type": "stream",
     "text": [
      "0.75\n"
     ]
    }
   ],
   "source": [
    "     # Compute MAE.\n",
    "    ffd_ann_mae = np.round(\n",
    "        np.mean(np.abs(targets_test.flatten()-ffd_ann_predictions)),\n",
    "        decimals=2\n",
    "    )\n",
    "    print(ffd_ann_mae)"
   ]
  },
  {
   "cell_type": "markdown",
   "metadata": {},
   "source": [
    "Not a bad result 0.75 Celsius. Let us now move on to set-up LSTM RNN. Firstly, we need to declare how much will be the memory (ie. storage) capacity of the LSTM RNN. We will set it to 30 time-steps."
   ]
  },
  {
   "cell_type": "code",
   "execution_count": 124,
   "metadata": {},
   "outputs": [],
   "source": [
    "    # Declare how much memory is needed for prediction?\n",
    "    memory = 30"
   ]
  },
  {
   "cell_type": "markdown",
   "metadata": {},
   "source": [
    "The next thing to declare is the prediction interval, or how often we need to make predictions. Let assume that predictions need to be made at every timestep."
   ]
  },
  {
   "cell_type": "code",
   "execution_count": 125,
   "metadata": {},
   "outputs": [],
   "source": [
    "    # Declare prediction interval.\n",
    "    prediction_interval = 1"
   ]
  },
  {
   "cell_type": "markdown",
   "metadata": {},
   "source": [
    "Another name for the prediction interval, cold be prediction frequency. Apart, from predicion interval, we also need the length of prediction, or how many time-steps will be predicted every time the model is executed."
   ]
  },
  {
   "cell_type": "code",
   "execution_count": 126,
   "metadata": {},
   "outputs": [],
   "source": [
    "    # Prediction length.\n",
    "    prediction_length = 1"
   ]
  },
  {
   "cell_type": "markdown",
   "metadata": {},
   "source": [
    "We declare prediction length to 1 time-step. Now, how we can state the problem the network is trying to solve? Given the last 30 time-steps of data in the features (memory), predict the \"temperature int the kitchen area\" at the next (31st) time-step (prediction length), once per every time-step (prediction interval). Please note that there is no delay between the memory and prediction. As soon as the 30 time-steps is consumed, prediction for the 31st time-step is made. (The problem could be specified with a longer delay.) Also note that there is no down-sampling of the input features. (All 30 time-steps are taken into account when performing prediction). Finally, the length of predicion could be increased, to more than one. Now, we need to declare some paramaters which will be utilized in training."
   ]
  },
  {
   "cell_type": "code",
   "execution_count": 127,
   "metadata": {},
   "outputs": [],
   "source": [
    "    # Batch size.\n",
    "    samples_per_batch = 1\n",
    "    batch_length = samples_per_batch * memory"
   ]
  },
  {
   "cell_type": "markdown",
   "metadata": {},
   "source": [
    "We need to declare how many samples will be witin the batch. In this case each batch will contain only one sample. Batch length is just a total ength of each batch given the number of samples within the batch and memory capacity of the network. Again, this is one of the tuning parameters, or better yet--design decisions--on how to construct model training and deployment process. Please, also note that in this setup introduction of more than one sample within a batch will mean that there will be overalapping of the time-steps among the batches. After decalring these basic parameters of model deployment and training process, we need to determine derived inputs for the trining process."
   ]
  },
  {
   "cell_type": "code",
   "execution_count": 128,
   "metadata": {},
   "outputs": [],
   "source": [
    "    # Compute maximal number of samples.\n",
    "    training_samples = len(x_train_standardized) - batch_length\n",
    "    validation_samples = len(x_validation_standardized) - batch_length\n",
    "    testing_samples = len(x_test_standardized) - batch_length"
   ]
  },
  {
   "cell_type": "markdown",
   "metadata": {},
   "source": [
    "Finally, we build an inventory of the training indices which will utilized by the fit generator to yield batches of samples for the features and targets."
   ]
  },
  {
   "cell_type": "code",
   "execution_count": 129,
   "metadata": {},
   "outputs": [],
   "source": [
    "    # Indices for training.\n",
    "    training_indices_features = pd.DataFrame(OrderedDict([\n",
    "        (\n",
    "            'features_start',\n",
    "            list(range(0, training_samples, samples_per_batch))\n",
    "        ), (\n",
    "            'features_end',\n",
    "            list(range(\n",
    "                batch_length,\n",
    "                batch_length+training_samples,\n",
    "                samples_per_batch\n",
    "            ))\n",
    "        ), (\n",
    "            'targets_start',\n",
    "            list(range(\n",
    "                batch_length,\n",
    "                batch_length+training_samples,\n",
    "                samples_per_batch\n",
    "            ))\n",
    "        ), (\n",
    "            'targets_end',\n",
    "            list(range(\n",
    "                batch_length+samples_per_batch,\n",
    "                batch_length+samples_per_batch+training_samples,\n",
    "                samples_per_batch\n",
    "            ))\n",
    "        )\n",
    "    ]))"
   ]
  },
  {
   "cell_type": "markdown",
   "metadata": {},
   "source": [
    "Befor we complete this inventory, we need to make sure that there are no implausible indices."
   ]
  },
  {
   "cell_type": "code",
   "execution_count": 130,
   "metadata": {},
   "outputs": [],
   "source": [
    "    # Check.\n",
    "    training_indices_features['check'] = \\\n",
    "        np.where(\n",
    "            training_indices_features['targets_end'] > len(targets_train), 1, 0\n",
    "        )\n",
    "    training_indices_features = training_indices_features.loc[\n",
    "        training_indices_features['check'] == 0, :\n",
    "    ]"
   ]
  },
  {
   "cell_type": "markdown",
   "metadata": {},
   "source": [
    "At the very end we will shuffle the indices. Please note that (a) only the indices are shuffled, and not the arrays that contain data, and that (b) the whole batches are shuffled and not the individual samples within the batches. "
   ]
  },
  {
   "cell_type": "code",
   "execution_count": 131,
   "metadata": {},
   "outputs": [],
   "source": [
    "    # Shuffle training indices.\n",
    "    shuffle = np.random.randint(\n",
    "        low=0,\n",
    "        high=len(training_indices_features),\n",
    "        size=len(training_indices_features),\n",
    "        dtype=np.int\n",
    "    )\n",
    "    training_indices_features = training_indices_features.iloc[shuffle, :]\n",
    "    training_indices_features.reset_index(inplace=True, drop=True)"
   ]
  },
  {
   "cell_type": "markdown",
   "metadata": {},
   "source": [
    "With the exception of shuffling we repeat this indexing process for both validation data, and testing data."
   ]
  },
  {
   "cell_type": "code",
   "execution_count": 132,
   "metadata": {},
   "outputs": [],
   "source": [
    "    # Validation indices.\n",
    "    validation_indices = pd.DataFrame(OrderedDict([\n",
    "        (\n",
    "            'features_start',\n",
    "            list(range(0, validation_samples, prediction_length))\n",
    "        ), (\n",
    "            'features_end',\n",
    "            list(range(\n",
    "                batch_length,\n",
    "                batch_length+validation_samples,\n",
    "                prediction_length\n",
    "            ))\n",
    "        ), (\n",
    "            'targets_start',\n",
    "            list(range(\n",
    "                batch_length,\n",
    "                batch_length+validation_samples,\n",
    "                prediction_length\n",
    "            )),\n",
    "        ), (\n",
    "            'targets_end',\n",
    "            list(range(\n",
    "                batch_length+samples_per_batch,\n",
    "                batch_length+samples_per_batch+validation_samples,\n",
    "                prediction_length\n",
    "            ))\n",
    "        )\n",
    "    ]))\n",
    "\n",
    "    # Check.\n",
    "    validation_indices['check'] = \\\n",
    "        np.where(\n",
    "            validation_indices['targets_end'] > len(targets_validation), 1, 0\n",
    "        )\n",
    "    validation_indices = validation_indices.loc[\n",
    "        validation_indices['check'] == 0, :\n",
    "    ]\n",
    "\n",
    "    # Testing indices.\n",
    "    testing_indices = pd.DataFrame(OrderedDict([\n",
    "        (\n",
    "            'features_start',\n",
    "            list(range(0, testing_samples, prediction_length))\n",
    "        ), (\n",
    "            'features_end',\n",
    "            list(range(\n",
    "                memory,\n",
    "                memory+testing_samples,\n",
    "                prediction_length\n",
    "            ))\n",
    "        ), (\n",
    "            'targets_start',\n",
    "            list(range(\n",
    "                memory,\n",
    "                memory+testing_samples,\n",
    "                prediction_length\n",
    "            ))\n",
    "        ), (\n",
    "            'targets_end',\n",
    "            list(range(\n",
    "                memory+samples_per_batch,\n",
    "                memory+samples_per_batch+testing_samples,\n",
    "                prediction_length\n",
    "            ))\n",
    "        )\n",
    "    ]))\n",
    "\n",
    "    # Check.\n",
    "    testing_indices['check'] = \\\n",
    "        np.where(\n",
    "            testing_indices['features_end'] > len(x_test_standardized), 1, 0\n",
    "        )\n",
    "    testing_indices = testing_indices.loc[testing_indices['check'] == 0, :]"
   ]
  },
  {
   "cell_type": "markdown",
   "metadata": {},
   "source": [
    "In order to provide information to the batch generator when to stop, we need to compute the number of steps for training, validation, and testing."
   ]
  },
  {
   "cell_type": "code",
   "execution_count": 133,
   "metadata": {},
   "outputs": [],
   "source": [
    "    # Steps per epoch.\n",
    "    training_steps = len(training_indices_features)\n",
    "    validation_steps = len(validation_indices)\n",
    "    testing_steps = len(testing_indices)"
   ]
  },
  {
   "cell_type": "markdown",
   "metadata": {},
   "source": [
    "And this puts an end to the preparations. Now, we can make a model with a call to the function."
   ]
  },
  {
   "cell_type": "code",
   "execution_count": 145,
   "metadata": {},
   "outputs": [
    {
     "name": "stdout",
     "output_type": "stream",
     "text": [
      "_________________________________________________________________\n",
      "Layer (type)                 Output Shape              Param #   \n",
      "=================================================================\n",
      "input_layer (InputLayer)     (None, 30, 25)            0         \n",
      "_________________________________________________________________\n",
      "lstm_3 (LSTM)                (None, 30, 2)             224       \n",
      "_________________________________________________________________\n",
      "lstm_4 (LSTM)                (None, 2)                 40        \n",
      "_________________________________________________________________\n",
      "output_layer (Dense)         (None, 1)                 3         \n",
      "=================================================================\n",
      "Total params: 267\n",
      "Trainable params: 267\n",
      "Non-trainable params: 0\n",
      "_________________________________________________________________\n",
      "None\n"
     ]
    }
   ],
   "source": [
    "    # Get LSTM RNN.\n",
    "    lstm_rnn_model = get_lstm_rnn_model(\n",
    "        capacity=memory, dimensionality=np.shape(x_train_standardized)[1]\n",
    "    )\n",
    "\n",
    "    # Print model summary.\n",
    "    print(lstm_rnn_model.summary())"
   ]
  },
  {
   "cell_type": "markdown",
   "metadata": {},
   "source": [
    "As it can be seen the model was declared correctly. Then networks consists of two inner layers with two LSTM cells in each layer, and an output layer with one unit, and linear activation. Let us declare an optimizer."
   ]
  },
  {
   "cell_type": "code",
   "execution_count": 146,
   "metadata": {},
   "outputs": [],
   "source": [
    "    # Declare optimizer.\n",
    "    optimizer = Adam(\n",
    "        lr=0.001,\n",
    "        beta_1=0.9,\n",
    "        beta_2=0.999,\n",
    "        epsilon=None,\n",
    "        decay=0.0,\n",
    "        amsgrad=False\n",
    "    )"
   ]
  },
  {
   "cell_type": "markdown",
   "metadata": {},
   "source": [
    "Nothing special here. Adam optimizer with default parameters. All that is left is to compile the model."
   ]
  },
  {
   "cell_type": "code",
   "execution_count": 148,
   "metadata": {},
   "outputs": [],
   "source": [
    "    # Compile model.\n",
    "    lstm_rnn_model.compile(\n",
    "        optimizer=optimizer,\n",
    "        loss='mse',\n",
    "        metrics=['mae']\n",
    "    )"
   ]
  },
  {
   "cell_type": "markdown",
   "metadata": {},
   "source": [
    "And of we go with the training process. Training process will go for up to 50 epoch, and will discontinue according to criteria defined in the callback. After the training process is discontinued, the callback will restore the best model."
   ]
  },
  {
   "cell_type": "code",
   "execution_count": 149,
   "metadata": {},
   "outputs": [
    {
     "name": "stdout",
     "output_type": "stream",
     "text": [
      "Epoch 1/50\n",
      "8850/8850 [==============================] - 364s 41ms/step - loss: 85.1369 - mean_absolute_error: 7.3497 - val_loss: 1.8311 - val_mean_absolute_error: 1.1635\n",
      "Epoch 2/50\n",
      "8850/8850 [==============================] - 349s 39ms/step - loss: 1.0268 - mean_absolute_error: 0.7539 - val_loss: 0.3659 - val_mean_absolute_error: 0.4920\n",
      "Epoch 3/50\n",
      "8850/8850 [==============================] - 338s 38ms/step - loss: 0.2479 - mean_absolute_error: 0.3584 - val_loss: 0.2656 - val_mean_absolute_error: 0.3840\n",
      "Epoch 4/50\n",
      "8850/8850 [==============================] - 383s 43ms/step - loss: 0.0720 - mean_absolute_error: 0.2016 - val_loss: 0.2734 - val_mean_absolute_error: 0.3809\n",
      "Epoch 5/50\n",
      "8850/8850 [==============================] - 323s 37ms/step - loss: 0.0498 - mean_absolute_error: 0.1712 - val_loss: 0.2502 - val_mean_absolute_error: 0.3537\n",
      "Epoch 6/50\n",
      "8850/8850 [==============================] - 364s 41ms/step - loss: 0.0445 - mean_absolute_error: 0.1619 - val_loss: 0.2408 - val_mean_absolute_error: 0.3434\n",
      "Epoch 7/50\n",
      "8850/8850 [==============================] - 422s 48ms/step - loss: 0.0413 - mean_absolute_error: 0.1566 - val_loss: 0.2457 - val_mean_absolute_error: 0.3477\n",
      "Restoring model weights from the end of the best epoch\n",
      "Epoch 00007: early stopping\n"
     ]
    }
   ],
   "source": [
    "    # Fit model.\n",
    "    history = lstm_rnn_model.fit_generator(\n",
    "        generate_batch(\n",
    "            features=x_train_standardized,\n",
    "            labels=targets_train,\n",
    "            inventory_of_batches=training_indices_features,\n",
    "            samples_per_batch=samples_per_batch\n",
    "        ),\n",
    "        steps_per_epoch=training_steps,\n",
    "        epochs=50,\n",
    "        validation_data=generate_batch(\n",
    "            features=x_validation_standardized,\n",
    "            labels=targets_validation,\n",
    "            inventory_of_batches=validation_indices,\n",
    "            samples_per_batch=samples_per_batch\n",
    "        ),\n",
    "        validation_steps=validation_steps,\n",
    "        callbacks=[\n",
    "            EarlyStopping(\n",
    "                monitor='val_loss',\n",
    "                min_delta=0.01,\n",
    "                patience=2,\n",
    "                restore_best_weights=True,\n",
    "                verbose=1\n",
    "            )\n",
    "        ]\n",
    "    )"
   ]
  },
  {
   "cell_type": "markdown",
   "metadata": {},
   "source": [
    "Even though it was a short training process let us take a look at how it went."
   ]
  },
  {
   "cell_type": "code",
   "execution_count": 150,
   "metadata": {},
   "outputs": [
    {
     "data": {
      "text/plain": [
       "Text(0.5, 1.0, 'Loss')"
      ]
     },
     "execution_count": 150,
     "metadata": {},
     "output_type": "execute_result"
    },
    {
     "data": {
      "image/png": "[encoded data removed]",
      "text/plain": [
       "<Figure size 960.001x540 with 2 Axes>"
      ]
     },
     "metadata": {
      "needs_background": "light"
     },
     "output_type": "display_data"
    }
   ],
   "source": [
    "    # Plot accuracy and loss.\n",
    "    fig = plt.figure(figsize=[26.6667*.5, 15*.5])\n",
    "    plotting_grid = grid.GridSpec(2, 1)\n",
    "    # Plot accuracy.\n",
    "    ax1 = fig.add_subplot(plotting_grid[0, 0])\n",
    "    ax1.plot(history.history['mean_absolute_error'], label='Training')\n",
    "    ax1.plot(history.history['val_mean_absolute_error'], label='Validation')\n",
    "    ax1.set_xticks(list(range(\n",
    "        0, len(history.history['val_mean_absolute_error'])\n",
    "    )))\n",
    "    ax1.invert_yaxis()\n",
    "    ax1.legend()\n",
    "    ax1.set_title('Accuracy')\n",
    "    # Plot loss.\n",
    "    ax2 = fig.add_subplot(plotting_grid[1, 0])\n",
    "    ax2.plot(history.history['loss'], label='Training')\n",
    "    ax2.plot(history.history['val_loss'], label='Validation')\n",
    "    ax2.set_xticks(list(range(\n",
    "        0, len(history.history['val_mean_absolute_error'])\n",
    "    )))\n",
    "    ax2.legend()\n",
    "    ax2.set_title('Loss')"
   ]
  },
  {
   "cell_type": "markdown",
   "metadata": {},
   "source": [
    "Now, let us generate preictions out of LSTM RNN."
   ]
  },
  {
   "cell_type": "code",
   "execution_count": 151,
   "metadata": {},
   "outputs": [
    {
     "name": "stdout",
     "output_type": "stream",
     "text": [
      "9838/9838 [==============================] - 91s 9ms/step\n"
     ]
    }
   ],
   "source": [
    "    # Generate predictions.\n",
    "    lstm_rnn_predictions = lstm_rnn_model.predict_generator(\n",
    "        generator=generate_batch_for_prediction(\n",
    "            features=x_test_standardized,\n",
    "            inventory_of_batches=testing_indices\n",
    "        ),\n",
    "        steps=len(testing_indices),\n",
    "        verbose=1\n",
    "    )"
   ]
  },
  {
   "cell_type": "markdown",
   "metadata": {},
   "source": [
    "Just a short check, and a remainder tht we are dropping first thiry predictions becauase of design of RNN network."
   ]
  },
  {
   "cell_type": "code",
   "execution_count": 152,
   "metadata": {},
   "outputs": [
    {
     "name": "stdout",
     "output_type": "stream",
     "text": [
      "False\n",
      "True\n"
     ]
    }
   ],
   "source": [
    "    print(len(lstm_rnn_predictions) == len(targets_test))\n",
    "    print(len(lstm_rnn_predictions) == len(targets_test[30:, ]))"
   ]
  },
  {
   "cell_type": "markdown",
   "metadata": {},
   "source": [
    "Now, we can put all predictions, both from FFD ANN and LSTM RNN into a single data frame."
   ]
  },
  {
   "cell_type": "code",
   "execution_count": 153,
   "metadata": {},
   "outputs": [],
   "source": [
    "    table_for_plotting = pd.DataFrame(OrderedDict([\n",
    "        ('targets', targets_test[30:].flatten()),\n",
    "        ('ffd_ann_predictions', ffd_ann_predictions[30:, ]),\n",
    "        ('lstm_rnn_predictions', lstm_rnn_predictions.flatten())\n",
    "    ]))"
   ]
  },
  {
   "cell_type": "markdown",
   "metadata": {},
   "source": [
    "Let us now compute the accuracy of the LSTM RNN."
   ]
  },
  {
   "cell_type": "code",
   "execution_count": 154,
   "metadata": {},
   "outputs": [],
   "source": [
    "    # Compute accuracy (MAE).\n",
    "    lstm_rnn_mae = np.round(\n",
    "        np.mean(\n",
    "            np.abs(\n",
    "                table_for_plotting['targets']\n",
    "                - table_for_plotting['lstm_rnn_predictions']\n",
    "            )\n",
    "        ),\n",
    "        decimals=2\n",
    "    )"
   ]
  },
  {
   "cell_type": "markdown",
   "metadata": {},
   "source": [
    "Now let us compare the fit of these two distinct types of networks."
   ]
  },
  {
   "cell_type": "code",
   "execution_count": 155,
   "metadata": {},
   "outputs": [
    {
     "data": {
      "text/plain": [
       "<matplotlib.legend.Legend at 0x1ce571fcc50>"
      ]
     },
     "execution_count": 155,
     "metadata": {},
     "output_type": "execute_result"
    },
    {
     "data": {
      "image/png": "[encoded data removed]",
      "text/plain": [
       "<Figure size 960.001x540 with 2 Axes>"
      ]
     },
     "metadata": {
      "needs_background": "light"
     },
     "output_type": "display_data"
    }
   ],
   "source": [
    "    # Comparison of fit.\n",
    "    fig = plt.figure(figsize=[26.6667 * .5, 15 * .5])\n",
    "    fig.subplots_adjust(hspace=.25)\n",
    "    plotting_grid = grid.GridSpec(2, 1)\n",
    "    # Plot LSTM RNN.\n",
    "    ax1 = fig.add_subplot(plotting_grid[0, 0])\n",
    "    ax1.plot(\n",
    "        table_for_plotting['targets'],\n",
    "        color='orangered',\n",
    "        label='Targets',\n",
    "        linestyle=':',\n",
    "        linewidth=1,\n",
    "    )\n",
    "    ax1.plot(\n",
    "        table_for_plotting['lstm_rnn_predictions'],\n",
    "        color='dodgerblue',\n",
    "        label='LSTM RNN predictions',\n",
    "        linewidth=1\n",
    "    )\n",
    "    ax1.set_title(\n",
    "        'Fit of LSTM RNN\\n(MAE=%s)'\n",
    "        %\n",
    "        str(lstm_rnn_mae)\n",
    "    )\n",
    "    ax1.legend(loc=1)\n",
    "    # Plot FFD ANN.\n",
    "    ax2 = fig.add_subplot(plotting_grid[1, 0])\n",
    "    ax2.plot(\n",
    "        table_for_plotting['targets'],\n",
    "        color='orangered',\n",
    "        label='Targets',\n",
    "        linestyle=':',\n",
    "        linewidth=1,\n",
    "    )\n",
    "    ax2.plot(\n",
    "        table_for_plotting['ffd_ann_predictions'],\n",
    "        color='dodgerblue',\n",
    "        label='FFD ANN predictions',\n",
    "        linewidth=1\n",
    "    )\n",
    "    ax2.set_title(\n",
    "        'Fit of FFD ANN\\n(MAE=%s)'\n",
    "        %\n",
    "        str(ffd_ann_mae)\n",
    "    )\n",
    "    ax2.legend(loc=1)"
   ]
  },
  {
   "cell_type": "markdown",
   "metadata": {},
   "source": [
    "# Conclusion\n",
    "\n",
    "As we can see, there is obviousley a distinctive, much more suitable fit, given by the RNN with LSTM cells, in comparison to the FFD ANN. This is a consequence of a specific architecture of the RNN, which allows the network to become more skilfull in making conclusions, which take into account temporal dependance. In contrast, FFD ANN is completley unaware of temporal dependance in the data. FFD ANN makes concusions only on the basis of the inputs which are completely synchronized with the outputs in temporeal dimension, esentially downgrading time series data into transactional (i.i.d.) data. The advantages do not stop there, relative improvement in the accuracy over FFD ANN is 21%. The RNN was able to reduce MAE for 0.16 degrees of Celsius, which is one fith of the result achieved by the FFD ANN. Also, please note that the FFD ANN is heavily regularized, while there is no regularization of the LSTM RNN. However, the analysis would not be complete without two additional notes. First one is a note regarding the training time, which is several times greater when it comes to the LSTM RNN in comparison with FFD ANN. FFD ANNs fit quickly, and require no tuning of the dimension of time. Second one is the ability of FFD ANN to give a slightly better fit in the second part of the data, after there is a shift in the distribution of the input data. In this section of the data LSTM RNN is demonstrating lower fit ability, most likely because of absence of any reqularization during training process."
   ]
  }
 ],
 "metadata": {
  "kernelspec": {
   "display_name": "Python 3",
   "language": "python",
   "name": "python3"
  },
  "language_info": {
   "codemirror_mode": {
    "name": "ipython",
    "version": 3
   },
   "file_extension": ".py",
   "mimetype": "text/x-python",
   "name": "python",
   "nbconvert_exporter": "python",
   "pygments_lexer": "ipython3",
   "version": "3.6.1"
  }
 },
 "nbformat": 4,
 "nbformat_minor": 2
}
